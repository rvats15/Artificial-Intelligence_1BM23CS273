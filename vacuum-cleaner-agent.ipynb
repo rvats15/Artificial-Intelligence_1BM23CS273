{
 "cells": [
  {
   "cell_type": "code",
   "execution_count": 7,
   "id": "8a8a523f-9d40-4e0e-9f6a-8d05423b7530",
   "metadata": {},
   "outputs": [
    {
     "name": "stdin",
     "output_type": "stream",
     "text": [
      "Enter Location of Vacuum (A or B):  A\n",
      "Enter status of A (1 for Dirty, 0 for Clean):  1\n",
      "Enter status of B (1 for Dirty, 0 for Clean):  0\n"
     ]
    },
    {
     "name": "stdout",
     "output_type": "stream",
     "text": [
      "\n",
      "--- Initial Conditions ---\n",
      "Vacuum is at location A\n",
      "Location A status: Dirty\n",
      "Location B status: Clean\n",
      "\n",
      "Cleaning location A...\n",
      "Cost +1 (Suck) → Total Cost: 1\n",
      "\n",
      "Location B is already clean. No need to move.\n",
      "\n",
      "--- Final State ---\n",
      "Goal State: {'A': '0', 'B': '0'}\n",
      "Performance Measurement (Total Cost): 1\n"
     ]
    }
   ],
   "source": [
    "def vacuum_world():\n",
    "    goal_state = {'A': '0', 'B': '0'}\n",
    "    cost = 0\n",
    "\n",
    "    location = input(\"Enter Location of Vacuum (A or B): \").upper()\n",
    "    status_location = input(f\"Enter status of {location} (1 for Dirty, 0 for Clean): \")\n",
    "    other_location = 'B' if location == 'A' else 'A'\n",
    "    status_other = input(f\"Enter status of {other_location} (1 for Dirty, 0 for Clean): \")\n",
    "\n",
    "    print(\"\\n--- Initial Conditions ---\")\n",
    "    print(f\"Vacuum is at location {location}\")\n",
    "    print(f\"Location {location} status: {'Dirty' if status_location == '1' else 'Clean'}\")\n",
    "    print(f\"Location {other_location} status: {'Dirty' if status_other == '1' else 'Clean'}\")\n",
    "\n",
    "    if status_location == '1':\n",
    "        print(f\"\\nCleaning location {location}...\")\n",
    "        goal_state[location] = '0'\n",
    "        cost += 1\n",
    "        print(f\"Cost +1 (Suck) → Total Cost: {cost}\")\n",
    "    else:\n",
    "        print(f\"\\nLocation {location} is already clean.\")\n",
    "\n",
    "    if status_other == '1':\n",
    "        print(f\"\\nMoving to location {other_location}...\")\n",
    "        cost += 1\n",
    "        print(f\"Cost +1 (Move) → Total Cost: {cost}\")\n",
    "        print(f\"Cleaning location {other_location}...\")\n",
    "        goal_state[other_location] = '0'\n",
    "        cost += 1\n",
    "        print(f\"Cost +1 (Suck) → Total Cost: {cost}\")\n",
    "    else:\n",
    "        print(f\"\\nLocation {other_location} is already clean. No need to move.\")\n",
    "\n",
    "    print(\"\\n--- Final State ---\")\n",
    "    print(f\"Goal State: {goal_state}\")\n",
    "    print(f\"Performance Measurement (Total Cost): {cost}\")\n",
    "\n",
    "vacuum_world()\n"
   ]
  }
 ],
 "metadata": {
  "kernelspec": {
   "display_name": "Python 3 (ipykernel)",
   "language": "python",
   "name": "python3"
  },
  "language_info": {
   "codemirror_mode": {
    "name": "ipython",
    "version": 3
   },
   "file_extension": ".py",
   "mimetype": "text/x-python",
   "name": "python",
   "nbconvert_exporter": "python",
   "pygments_lexer": "ipython3",
   "version": "3.12.7"
  }
 },
 "nbformat": 4,
 "nbformat_minor": 5
}
