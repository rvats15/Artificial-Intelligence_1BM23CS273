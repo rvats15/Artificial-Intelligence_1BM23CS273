{
  "metadata": {
    "kernelspec": {
      "name": "python",
      "display_name": "Python (Pyodide)",
      "language": "python"
    },
    "language_info": {
      "codemirror_mode": {
        "name": "python",
        "version": 3
      },
      "file_extension": ".py",
      "mimetype": "text/x-python",
      "name": "python",
      "nbconvert_exporter": "python",
      "pygments_lexer": "ipython3",
      "version": "3.8"
    }
  },
  "nbformat_minor": 5,
  "nbformat": 4,
  "cells": [
    {
      "id": "9be313f7-920e-418b-9a0d-e7640d0f6053",
      "cell_type": "code",
      "source": "import random\n\ndef make_initial_state(N):\n    return [random.randint(0, N-1) for _ in range(N)]\n\ndef cost(state):\n    attacks = 0\n    N = len(state)\n    for i in range(N):\n        for j in range(i + 1, N):\n            if state[i] == state[j]:\n                attacks += 1\n            if abs(state[i] - state[j]) == abs(i - j):\n                attacks += 1\n    return attacks\n\ndef generate_neighbors(state):\n    neighbors = []\n    N = len(state)\n    for i in range(N - 1):\n        for j in range(i + 1, N):\n            neighbor = state.copy()\n            neighbor[i], neighbor[j] = neighbor[j], neighbor[i]\n            neighbors.append(neighbor)\n    return neighbors\n\ndef hill_climbing(N):\n    current_state = make_initial_state(N)\n    current_cost = cost(current_state)\n\n    while current_cost > 0:\n        neighbors = generate_neighbors(current_state)\n        best_neighbor = None\n        best_cost = float('inf')\n\n        for neighbor in neighbors:\n            neighbor_cost = cost(neighbor)\n            if neighbor_cost < best_cost:\n                best_cost = neighbor_cost\n                best_neighbor = neighbor\n        \n        if best_cost >= current_cost:\n            break\n\n        current_state = best_neighbor\n        current_cost = best_cost\n\n    return current_state, current_cost\n\nN = 4\nsolution, solution_cost = hill_climbing(N)\n\nprint(f\"Solution state: {solution}\")\nprint(f\"Number of attacking pairs: {solution_cost}\")\n\n",
      "metadata": {
        "trusted": true
      },
      "outputs": [
        {
          "name": "stdout",
          "output_type": "stream",
          "text": "Solution state: [2, 1, 3, 1]\nNumber of attacking pairs: 2\n"
        }
      ],
      "execution_count": 4
    },
    {
      "id": "bcea0545-0dd3-4b2b-895d-066b5f3a362f",
      "cell_type": "code",
      "source": "",
      "metadata": {
        "trusted": true
      },
      "outputs": [],
      "execution_count": null
    },
    {
      "id": "72f5a2e8-7e72-4e1f-ad25-da8e24704724",
      "cell_type": "code",
      "source": "",
      "metadata": {
        "trusted": true
      },
      "outputs": [],
      "execution_count": null
    }
  ]
}