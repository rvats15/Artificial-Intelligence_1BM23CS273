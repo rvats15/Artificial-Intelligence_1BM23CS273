{
  "metadata": {
    "kernelspec": {
      "name": "python",
      "display_name": "Python (Pyodide)",
      "language": "python"
    },
    "language_info": {
      "codemirror_mode": {
        "name": "python",
        "version": 3
      },
      "file_extension": ".py",
      "mimetype": "text/x-python",
      "name": "python",
      "nbconvert_exporter": "python",
      "pygments_lexer": "ipython3",
      "version": "3.8"
    }
  },
  "nbformat_minor": 5,
  "nbformat": 4,
  "cells": [
    {
      "id": "dadb5f22-71f2-41d9-a44d-39b637d2dd5e",
      "cell_type": "code",
      "source": "import random\nimport math\n\ndef calculate_cost(state):\n    n = len(state)\n    attacks = 0\n    for i in range(n):\n        for j in range(i + 1, n):\n            if state[i] == state[j] or abs(state[i] - state[j]) == abs(i - j):\n                attacks += 1\n    return attacks\n\ndef get_neighbor(state):\n    n = len(state)\n    new_state = state[:]\n    col = random.randint(0, n - 1)\n    new_row = random.randint(0, n - 1)\n    while new_row == new_state[col]:\n        new_row = random.randint(0, n - 1)\n    new_state[col] = new_row\n    return new_state\n\ndef simulated_annealing(n, max_iterations=10000, start_temp=100.0, cooling_rate=0.99):\n    current = [random.randint(0, n - 1) for _ in range(n)]\n    current_cost = calculate_cost(current)\n    temp = start_temp\n\n    for step in range(max_iterations):\n        if current_cost == 0:\n            return current, step\n\n        neighbor = get_neighbor(current)\n        neighbor_cost = calculate_cost(neighbor)\n        delta_e = current_cost - neighbor_cost\n\n        if delta_e > 0 or random.random() < math.exp(delta_e / temp):\n            current, current_cost = neighbor, neighbor_cost\n\n        temp *= cooling_rate\n\n    return None, max_iterations\n\nif __name__ == \"__main__\":\n    n = 4\n    solution, steps = simulated_annealing(n)\n    if solution:\n        print(f\"Solved {n}-Queens in {steps} steps!\")\n        print(\"Board state:\", solution)\n        for row in range(n):\n            line = \"\"\n            for col in range(n):\n                if solution[col] == row:\n                    line += \" Q \"\n                else:\n                    line += \" . \"\n            print(line)\n    else:\n        print(\"No solution found.\")\n",
      "metadata": {
        "trusted": true
      },
      "outputs": [
        {
          "name": "stdout",
          "output_type": "stream",
          "text": "Solved 4-Queens in 70 steps!\nBoard state: [1, 3, 0, 2]\n .  .  Q  . \n Q  .  .  . \n .  .  .  Q \n .  Q  .  . \n"
        }
      ],
      "execution_count": 1
    },
    {
      "id": "cc503392-5f89-44cb-ba66-bfe07708fc82",
      "cell_type": "code",
      "source": "",
      "metadata": {
        "trusted": true
      },
      "outputs": [],
      "execution_count": null
    }
  ]
}